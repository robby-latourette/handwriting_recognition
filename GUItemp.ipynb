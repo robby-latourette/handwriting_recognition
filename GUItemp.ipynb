{
 "cells": [
  {
   "cell_type": "code",
   "execution_count": null,
   "metadata": {},
   "outputs": [],
   "source": [
    "import tkinter as tk\n",
    "import numpy as np\n",
    "from PIL import Image, ImageTk"
   ]
  },
  {
   "cell_type": "code",
   "execution_count": null,
   "metadata": {},
   "outputs": [],
   "source": [
    "black_pixel = np.full((1, 3), 0, dtype=np.uint8)\n",
    "white_pixel = np.full((1, 3), 255, dtype=np.uint8)\n",
    "test_sample = np.full((140, 140, 3), black_pixel, dtype=np.uint8)"
   ]
  },
  {
   "cell_type": "code",
   "execution_count": null,
   "metadata": {},
   "outputs": [],
   "source": [
    "def clear_drawing():\n",
    "    ''' Clears the drawing canvas and internal array. '''\n",
    "\n",
    "    cvs_drawspace.delete('all')  # drawing canvas\n",
    "    test_sample[:] = black_pixel # internal representation of drawing\n",
    "\n",
    "def draw_handwriting(event):\n",
    "    ''' Draws on the canvas and internal array based on mouse coordinates. '''\n",
    "\n",
    "    # xy-coordinates and radius of the circle being drawn\n",
    "    x = event.x\n",
    "    y = event.y\n",
    "    r = 2\n",
    "    cvs_drawspace.create_oval(x - r, y - r, x + r+1, y + r+1, fill='black')\n",
    "    test_sample[y-2:y+3,x-2:x+3] = white_pixel"
   ]
  },
  {
   "cell_type": "code",
   "execution_count": null,
   "metadata": {},
   "outputs": [],
   "source": [
    "# Create a GUI window with a certain size and title\n",
    "window = tk.Tk()\n",
    "window.geometry(\"900x700\")\n",
    "window.wm_title('CSC432 Demo')\n"
   ]
  },
  {
   "cell_type": "code",
   "execution_count": null,
   "metadata": {},
   "outputs": [],
   "source": [
    "# Create all the buttons and stuff. Each column will be as wide as it's\n",
    "# widest widget. So we make some artifically wide widgets.\n",
    "lbl_title = tk.Label(text=f'Handwritten Digit Classifier')\n",
    "\n"
   ]
  },
  {
   "cell_type": "code",
   "execution_count": null,
   "metadata": {},
   "outputs": [],
   "source": [
    "# This drawing canvas will be very important for our ML model\n",
    "rfc_accuracy = tk.Label(text= \"Random Forest Accuracy = asl;dk h;lahbv;las\") #fill in later\n",
    "cvs_drawspace = tk.Canvas(width=140, height=140, bg='white', cursor='tcross',\n",
    "                          highlightthickness=1, highlightbackground='steelblue')\n",
    "btn_clear = tk.Button(window, text='Reset Everything', command=clear_drawing)\n"
   ]
  },
  {
   "cell_type": "code",
   "execution_count": null,
   "metadata": {},
   "outputs": [],
   "source": [
    "# The grid layout makes sense but is a bit tedious\n",
    "lbl_title.grid(row=0, column=0, columnspan=5, pady=5, padx=25)\n"
   ]
  },
  {
   "cell_type": "code",
   "execution_count": null,
   "metadata": {},
   "outputs": [],
   "source": [
    "rfc_accuracy.grid(row=4, column=2, pady=5)\n",
    "cvs_drawspace.grid(row=5, column=2, pady=5)\n",
    "btn_clear.grid(row=6, column=2, pady=5)"
   ]
  },
  {
   "cell_type": "code",
   "execution_count": null,
   "metadata": {},
   "outputs": [],
   "source": [
    "cvs_drawspace.bind('<B1-Motion>', draw_handwriting)\n",
    "cvs_drawspace.bind('<Button-1>', draw_handwriting)\n"
   ]
  },
  {
   "cell_type": "code",
   "execution_count": null,
   "metadata": {},
   "outputs": [],
   "source": [
    "default_background_color = lbl_title.cget('background')\n",
    "\n",
    "window.resizable(False, False)\n",
    "window.mainloop()\n"
   ]
  }
 ],
 "metadata": {
  "language_info": {
   "name": "python"
  },
  "orig_nbformat": 4
 },
 "nbformat": 4,
 "nbformat_minor": 2
}
